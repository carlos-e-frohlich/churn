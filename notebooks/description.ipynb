{
 "cells": [
  {
   "cell_type": "markdown",
   "metadata": {},
   "source": [
    "Importar módulos."
   ]
  },
  {
   "cell_type": "code",
   "execution_count": null,
   "metadata": {},
   "outputs": [],
   "source": [
    "import pandas as pd\n",
    "from pathlib import Path\n",
    "import matplotlib.pyplot as plt"
   ]
  },
  {
   "cell_type": "markdown",
   "metadata": {},
   "source": [
    "Preâmbulo."
   ]
  },
  {
   "cell_type": "code",
   "execution_count": null,
   "metadata": {},
   "outputs": [],
   "source": [
    "dataset_path = Path('/home/cefrohlich/github/churn/data/external/Customer-Churn - Customer-Churn.csv')"
   ]
  },
  {
   "cell_type": "markdown",
   "metadata": {},
   "source": [
    "Importar dados."
   ]
  },
  {
   "cell_type": "code",
   "execution_count": null,
   "metadata": {},
   "outputs": [],
   "source": [
    "clients = pd.read_csv(\n",
    "    filepath_or_buffer=dataset_path,\n",
    "    sep=',',\n",
    "    header=0,\n",
    "    decimal=','\n",
    ")"
   ]
  },
  {
   "cell_type": "markdown",
   "metadata": {},
   "source": [
    "Analisar duração do contrato para (i) total de clientes e (ii) clientes que encerraram seus contratos."
   ]
  },
  {
   "cell_type": "code",
   "execution_count": null,
   "metadata": {},
   "outputs": [],
   "source": [
    "churners = clients.loc[clients['Churn'] == 'Yes']\n",
    "\n",
    "fig, axs = plt.subplots(\n",
    "    nrows=1,\n",
    "    ncols=2,\n",
    "    sharex=True,\n",
    "    sharey=True\n",
    ")\n",
    "\n",
    "fig.set_size_inches(18, 9)\n",
    "\n",
    "n_bins = 12\n",
    "\n",
    "axs[0].hist(\n",
    "    clients['tenure'],\n",
    "    bins=n_bins\n",
    ")\n",
    "\n",
    "axs[0].title.set_text('Total de clientes')\n",
    "\n",
    "axs[1].hist(\n",
    "    churners['tenure'],\n",
    "    bins=n_bins\n",
    ")\n",
    "\n",
    "axs[1].title.set_text('Churners')\n",
    "\n",
    "plt.show()"
   ]
  },
  {
   "cell_type": "markdown",
   "metadata": {},
   "source": [
    "Estes dados parecem sugerir que os contratos tendem a ser curtos, i.e., que o churning tende a ser maior nos meses iniciais do contrato. Calculemos o risco de churning ao longo da duração do contrato."
   ]
  },
  {
   "cell_type": "code",
   "execution_count": null,
   "metadata": {},
   "outputs": [],
   "source": [
    "clients_by_tenure = clients[['customerID', 'tenure']].groupby(by='tenure').count()\n",
    "clients_by_tenure.rename(\n",
    "    mapper={'customerID': 'clients'},\n",
    "    axis=1,\n",
    "    inplace=True\n",
    ")\n",
    "clients_by_tenure.reset_index(drop=False, inplace=True)\n",
    "\n",
    "churners_by_tenure = churners[['customerID', 'tenure']].groupby(by='tenure').count()\n",
    "churners_by_tenure.rename(\n",
    "    mapper={'customerID': 'churners'},\n",
    "    axis=1,\n",
    "    inplace=True\n",
    ")\n",
    "churners_by_tenure.reset_index(drop=False, inplace=True)\n",
    "\n",
    "churning_rate_by_tenure = clients_by_tenure.merge(\n",
    "    right=churners_by_tenure,\n",
    "    how='outer',\n",
    "    on='tenure'\n",
    ")\n",
    "\n",
    "churning_rate_by_tenure['churning_rate'] = churning_rate_by_tenure['churners'] / churning_rate_by_tenure['clients']\n",
    "\n",
    "fig, ax = plt.subplots()\n",
    "\n",
    "fig.set_size_inches(18, 9)\n",
    "\n",
    "ax.plot(\n",
    "    churning_rate_by_tenure['tenure'],\n",
    "    churning_rate_by_tenure['churning_rate']\n",
    ")\n",
    "\n",
    "plt.show()"
   ]
  },
  {
   "cell_type": "markdown",
   "metadata": {},
   "source": [
    "De fato, o risco de churning é superior a 50% no início do contrato.\n",
    "\n",
    "Em contrapartida, o risco de churning gravita em torno de 10% quando se trata de clientes com 60 meses de contrato.\n",
    "\n",
    "Será o risco de churning diferente para clientes de fibra óptica? Examinemo-lo."
   ]
  },
  {
   "cell_type": "code",
   "execution_count": null,
   "metadata": {},
   "outputs": [],
   "source": [
    "clients_fiber_optic = clients.loc[clients['InternetService'] == 'Fiber optic']\n",
    "clients_fiber_optic_by_tenure = clients_fiber_optic[['customerID', 'tenure']].groupby(by='tenure').count()\n",
    "clients_fiber_optic_by_tenure.rename(\n",
    "    mapper={'customerID': 'clients'},\n",
    "    axis=1,\n",
    "    inplace=True\n",
    ")\n",
    "clients_fiber_optic_by_tenure.reset_index(drop=False, inplace=True)\n",
    "\n",
    "churners_fiber_optic = churners.loc[churners['InternetService'] == 'Fiber optic']\n",
    "churners_fiber_optic_by_tenure = churners[['customerID', 'tenure']].groupby(by='tenure').count()\n",
    "churners_fiber_optic_by_tenure.rename(\n",
    "    mapper={'customerID': 'churners'},\n",
    "    axis=1,\n",
    "    inplace=True\n",
    ")\n",
    "churners_fiber_optic_by_tenure.reset_index(drop=False, inplace=True)\n",
    "\n",
    "churning_rate_fiber_optic_by_tenure = clients_fiber_optic_by_tenure.merge(\n",
    "    right=churners_fiber_optic_by_tenure,\n",
    "    how='outer',\n",
    "    on='tenure'\n",
    ")\n",
    "\n",
    "churning_rate_fiber_optic_by_tenure['churning_rate'] = churning_rate_fiber_optic_by_tenure['churners'] / churning_rate_fiber_optic_by_tenure['clients']\n",
    "\n",
    "fig, ax = plt.subplots()\n",
    "\n",
    "fig.set_size_inches(18, 9)\n",
    "\n",
    "ax.plot(\n",
    "    churning_rate_by_tenure['tenure'],\n",
    "    churning_rate_by_tenure['churning_rate'],\n",
    "    label='Total de clientes'\n",
    ")\n",
    "\n",
    "ax.plot(\n",
    "    churning_rate_fiber_optic_by_tenure['tenure'],\n",
    "    churning_rate_fiber_optic_by_tenure['churning_rate'],\n",
    "    label='Clientes do serviço de fibra óptica'\n",
    ")\n",
    "\n",
    "plt.legend()\n",
    "\n",
    "plt.show()"
   ]
  },
  {
   "cell_type": "markdown",
   "metadata": {},
   "source": [
    "De fato, clientes do serviço de fibra óptica parecem ser duas vezes mais propensos a encerrar seus contratos do que a média dos clientes. Ademais, o encerramento do contrato é muito mais provável em seu início. Isto indica um problema com a qualidade do serviço de fibra óptica."
   ]
  }
 ],
 "metadata": {
  "kernelspec": {
   "display_name": "venv",
   "language": "python",
   "name": "python3"
  },
  "language_info": {
   "codemirror_mode": {
    "name": "ipython",
    "version": 3
   },
   "file_extension": ".py",
   "mimetype": "text/x-python",
   "name": "python",
   "nbconvert_exporter": "python",
   "pygments_lexer": "ipython3",
   "version": "3.12.3"
  }
 },
 "nbformat": 4,
 "nbformat_minor": 2
}
